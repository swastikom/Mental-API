{
 "cells": [
  {
   "cell_type": "markdown",
   "metadata": {},
   "source": [
    "Imports"
   ]
  },
  {
   "cell_type": "code",
   "execution_count": 87,
   "metadata": {},
   "outputs": [],
   "source": [
    "import pandas as pd\n",
    "import numpy as np\n",
    "import warnings\n",
    "warnings.filterwarnings(\"ignore\")\n",
    "\n",
    "import plotly.express as px\n",
    "from sklearn.model_selection import train_test_split\n",
    "from sklearn.feature_extraction.text import TfidfVectorizer\n",
    "from sklearn.svm import LinearSVC\n",
    "from sklearn.metrics import classification_report\n",
    "\n",
    "\n",
    "from string import punctuation\n",
    "import re"
   ]
  },
  {
   "cell_type": "markdown",
   "metadata": {},
   "source": [
    "Loading Dataset"
   ]
  },
  {
   "cell_type": "code",
   "execution_count": 88,
   "metadata": {},
   "outputs": [
    {
     "name": "stdout",
     "output_type": "stream",
     "text": [
      "There are 98 rows and 3 columns\n"
     ]
    }
   ],
   "source": [
    "nRowsRead = None \n",
    "data = pd.read_csv('../Datasets/Mental_Health_FAQ.csv')\n",
    "data.dataframeName = 'Mental_Health_FAQ.csv'\n",
    "nRow, nCol = data.shape\n",
    "print(f'There are {nRow} rows and {nCol} columns')"
   ]
  },
  {
   "cell_type": "code",
   "execution_count": 89,
   "metadata": {},
   "outputs": [
    {
     "data": {
      "text/html": [
       "<div>\n",
       "<style scoped>\n",
       "    .dataframe tbody tr th:only-of-type {\n",
       "        vertical-align: middle;\n",
       "    }\n",
       "\n",
       "    .dataframe tbody tr th {\n",
       "        vertical-align: top;\n",
       "    }\n",
       "\n",
       "    .dataframe thead th {\n",
       "        text-align: right;\n",
       "    }\n",
       "</style>\n",
       "<table border=\"1\" class=\"dataframe\">\n",
       "  <thead>\n",
       "    <tr style=\"text-align: right;\">\n",
       "      <th></th>\n",
       "      <th>Question_ID</th>\n",
       "      <th>Questions</th>\n",
       "      <th>Answers</th>\n",
       "    </tr>\n",
       "  </thead>\n",
       "  <tbody>\n",
       "    <tr>\n",
       "      <th>0</th>\n",
       "      <td>1590140</td>\n",
       "      <td>What does it mean to have a mental illness?</td>\n",
       "      <td>Mental illnesses are health conditions that di...</td>\n",
       "    </tr>\n",
       "    <tr>\n",
       "      <th>1</th>\n",
       "      <td>2110618</td>\n",
       "      <td>Who does mental illness affect?</td>\n",
       "      <td>It is estimated that mental illness affects 1 ...</td>\n",
       "    </tr>\n",
       "    <tr>\n",
       "      <th>2</th>\n",
       "      <td>6361820</td>\n",
       "      <td>What causes mental illness?</td>\n",
       "      <td>It is estimated that mental illness affects 1 ...</td>\n",
       "    </tr>\n",
       "    <tr>\n",
       "      <th>3</th>\n",
       "      <td>9434130</td>\n",
       "      <td>What are some of the warning signs of mental i...</td>\n",
       "      <td>Symptoms of mental health disorders vary depen...</td>\n",
       "    </tr>\n",
       "    <tr>\n",
       "      <th>4</th>\n",
       "      <td>7657263</td>\n",
       "      <td>Can people with mental illness recover?</td>\n",
       "      <td>When healing from mental illness, early identi...</td>\n",
       "    </tr>\n",
       "  </tbody>\n",
       "</table>\n",
       "</div>"
      ],
      "text/plain": [
       "   Question_ID                                          Questions  \\\n",
       "0      1590140        What does it mean to have a mental illness?   \n",
       "1      2110618                    Who does mental illness affect?   \n",
       "2      6361820                        What causes mental illness?   \n",
       "3      9434130  What are some of the warning signs of mental i...   \n",
       "4      7657263            Can people with mental illness recover?   \n",
       "\n",
       "                                             Answers  \n",
       "0  Mental illnesses are health conditions that di...  \n",
       "1  It is estimated that mental illness affects 1 ...  \n",
       "2  It is estimated that mental illness affects 1 ...  \n",
       "3  Symptoms of mental health disorders vary depen...  \n",
       "4  When healing from mental illness, early identi...  "
      ]
     },
     "execution_count": 89,
     "metadata": {},
     "output_type": "execute_result"
    }
   ],
   "source": [
    "data.head()"
   ]
  },
  {
   "cell_type": "code",
   "execution_count": 90,
   "metadata": {},
   "outputs": [],
   "source": [
    "data['Questions'] = data['Questions'].str.lower()\n",
    "data['Questions'] = data['Questions'].str.replace('[^\\w\\s]', '')\n",
    "data.dropna(inplace=True)"
   ]
  },
  {
   "cell_type": "markdown",
   "metadata": {},
   "source": [
    "Analyze the distribution of intents in the Dataset"
   ]
  },
  {
   "cell_type": "code",
   "execution_count": 91,
   "metadata": {},
   "outputs": [],
   "source": [
    "intent_counts = data['Questions'].value_counts()"
   ]
  },
  {
   "cell_type": "markdown",
   "metadata": {},
   "source": [
    "QNA Analysis"
   ]
  },
  {
   "cell_type": "code",
   "execution_count": 92,
   "metadata": {},
   "outputs": [],
   "source": [
    "data['Intent'] = data['Questions']\n",
    "questions_response_counts = data.groupby('Intent').size().reset_index(name='Count')\n",
    "avg_questions = data.groupby('Intent').size().mean()"
   ]
  },
  {
   "cell_type": "markdown",
   "metadata": {},
   "source": [
    "Prediction Model"
   ]
  },
  {
   "cell_type": "code",
   "execution_count": 93,
   "metadata": {},
   "outputs": [],
   "source": [
    "X_train, X_test, y_train, y_test = train_test_split(data['Questions'], data['Intent'], test_size=0.2, random_state=42)\n"
   ]
  },
  {
   "cell_type": "code",
   "execution_count": 94,
   "metadata": {},
   "outputs": [
    {
     "name": "stdout",
     "output_type": "stream",
     "text": [
      "                                                                                                                                                                                                                    precision    recall  f1-score   support\n",
      "\n",
      "                                                                                                                                                 an adult in my life seems ill and won’t find help. what can i do?       0.00      0.00      0.00       0.0\n",
      "                                                                                                                                                                           can people with mental illness recover?       0.00      0.00      0.00       1.0\n",
      "                                                                                                                                                                           can you prevent mental health problems?       0.00      0.00      0.00       1.0\n",
      "cannabis is legally allowed to 19+ but there are doctor groups saying it’s potentially harmful to age 25. any use or certain use? what’s myth and what’s fact? if i’m a parent, what should i tell my young adult?       0.00      0.00      0.00       0.0\n",
      "                                                                                                                                                                               how can i challenge thinking traps?       0.00      0.00      0.00       1.0\n",
      "                                                                                                                                               how can i find a doctor, psychiatrist, psychologist, or counsellor?       0.00      0.00      0.00       1.0\n",
      "                                                                                                                                               how can i find a mental health professional for myself or my child?       0.00      0.00      0.00       0.0\n",
      "                                                                                                                                         how can i find a mental health professional right for my child or myself?       0.00      0.00      0.00       1.0\n",
      "                                                                                                                                                                                   how can i find a support group?       0.00      0.00      0.00       0.0\n",
      "                                                                                                                                                                      how can i get help paying for my medication?       0.00      0.00      0.00       0.0\n",
      "                                                                                                                                                                                       how can i see a counsellor?       0.00      0.00      0.00       0.0\n",
      "                                                                                                                                                                                     how can i see a psychologist?       0.00      0.00      0.00       1.0\n",
      "                                                                                                                                               i received a diagnosis but i don’t think it’s right. what can i do?       0.00      0.00      0.00       0.0\n",
      "                                                                                                 i was prescribed an antidepressant or other psychiatric medication but i don’t think it’s working. what can i do?       0.00      0.00      0.00       1.0\n",
      "                                                                                                                                                               if cannabis is dangerous, why are we legalizing it?       0.00      0.00      0.00       1.0\n",
      "                                                                                                                                                   i’m an adult and i think i might have adhd. what can i do next?       0.00      0.00      0.00       1.0\n",
      "                                                                                                                                                      what are the different types of mental health professionals?       0.00      0.00      0.00       1.0\n",
      "                                                                                                                                                                               what causes mental health problems?       0.00      0.00      0.00       0.0\n",
      "                                                                                                                                                                                       what causes mental illness?       0.00      0.00      0.00       0.0\n",
      "                                                                                                                                                               what do i do if i’m worried about my mental health?       0.00      0.00      0.00       0.0\n",
      "                                                                                                                                                                       what does it mean to have a mental illness?       0.00      0.00      0.00       1.0\n",
      "                                                                                                                                                                                     what does rapid cycling mean?       0.00      0.00      0.00       0.0\n",
      "                                                                                                                                                                          what is antisocial personality disorder?       0.00      0.00      0.00       1.0\n",
      "                                                                                                                                                                            what is schizoid personality disorder?       0.00      0.00      0.00       0.0\n",
      "                                                                                                                                                       what is the difference between mental health professionals?       0.00      0.00      0.00       0.0\n",
      "                                                                                                                                                       what should i do if i’m worried about a friend or relative?       0.00      0.00      0.00       1.0\n",
      "                                                                                                                                       what's the difference between a psychiatrist and a registered psychologist?       0.00      0.00      0.00       0.0\n",
      "                                                                                                                                                                    what's the difference between antidepressants?       0.00      0.00      0.00       1.0\n",
      "                                                                                                                                                                 what's the difference between anxiety and stress?       0.00      0.00      0.00       0.0\n",
      "                                                                                                                                                   what's the difference between mental health and mental illness?       0.00      0.00      0.00       1.0\n",
      "                                                                                                                                                    what’s the difference between anxiety and an anxiety disorder?       0.00      0.00      0.00       1.0\n",
      "                                                                                                                                                          where can i find child and youth mental health services?       0.00      0.00      0.00       1.0\n",
      "                                                                                                                                        where can i find information and help for borderline personality disorder?       0.00      0.00      0.00       1.0\n",
      "                                                                                                                                                               where can i find more information about depression?       0.00      0.00      0.00       0.0\n",
      "                                                                                                                                                                      where can i go to find other local services?       0.00      0.00      0.00       0.0\n",
      "                                                                                                                                                         where can i learn more information about clinical trials?       0.00      0.00      0.00       1.0\n",
      "                                                                                                                                                                                        where else can i get help?       0.00      0.00      0.00       1.0\n",
      "\n",
      "                                                                                                                                                                                                          accuracy                           0.00      20.0\n",
      "                                                                                                                                                                                                         macro avg       0.00      0.00      0.00      20.0\n",
      "                                                                                                                                                                                                      weighted avg       0.00      0.00      0.00      20.0\n",
      "\n"
     ]
    }
   ],
   "source": [
    "# Vectorize the text data\n",
    "vectorizer = TfidfVectorizer()\n",
    "X_train_vec = vectorizer.fit_transform(X_train)\n",
    "X_test_vec = vectorizer.transform(X_test)\n",
    "\n",
    "# Train the model\n",
    "model = LinearSVC()\n",
    "model.fit(X_train_vec, y_train)\n",
    "\n",
    "# Evaluate the model\n",
    "y_pred = model.predict(X_test_vec)\n",
    "report = classification_report(y_test, y_pred)\n",
    "print(report)"
   ]
  },
  {
   "cell_type": "code",
   "execution_count": 95,
   "metadata": {},
   "outputs": [
    {
     "name": "stdout",
     "output_type": "stream",
     "text": [
      "Welcome to the Mental Health FAQ Chatbot!\n",
      "Ask a question or enter 'quit' to exit.\n",
      "Chatbot: It is estimated that mental illness affects 1 in 5 adults in America, and that 1 in 24 adults have a serious mental illness. Mental illness does not discriminate; it can affect anyone, regardless of gender, age, income, social status, ethnicity, religion, sexual orientation, or background.\n",
      "Although mental illness can affect anyone, certain conditions may be more common in different populations. For instance, eating disorders tend to occur more often in females, while disorders such as attention deficit/hyperactivity disorder is more prevalent in children.\n",
      "Additionally, all ages are susceptible, but the young and the old are especially vulnerable. Mental illnesses usually strike individuals in the prime of their lives, with 75 percent of mental health conditions developing by the age of 24. This makes identification and treatment of mental disorders particularly difficult, because the normal personality and behavioral changes of adolescence may mask symptoms of a mental health condition.\n",
      "Parents and caretakers should be aware of this fact, and take notice of changes in their childâ€™s mood, personality, personal habits, and social withdrawal. When these occur in children under 18, they are referred to as serious emotional disturbances (SEDs).\n"
     ]
    }
   ],
   "source": [
    "# Prediction Model Deployment\n",
    "\n",
    "# Example chatbot implementation\n",
    "print(\"Welcome to the Mental Health FAQ Chatbot!\")\n",
    "print(\"Ask a question or enter 'quit' to exit.\")\n",
    "\n",
    "\n",
    "user_input = \"\"\n",
    "    \n",
    "if user_input.lower() == 'quit':\n",
    "    print(\"Chatbot: Goodbye!\")\n",
    "    \n",
    "    \n",
    "    # Vectorize user input\n",
    "user_input_vec = vectorizer.transform([user_input.lower()])\n",
    "    \n",
    "    # Predict the intent\n",
    "predicted_intent = model.predict(user_input_vec)[0]\n",
    "    \n",
    "    # Implement response generation mechanism based on predicted intent\n",
    "response = data[data['Questions'] == predicted_intent]['Answers'].values[0] if predicted_intent in data['Questions'].values else \"I'm sorry, I don't have a response for that question.\"\n",
    "    \n",
    "print(\"Chatbot: \" + response)"
   ]
  },
  {
   "cell_type": "markdown",
   "metadata": {},
   "source": [
    "Model Export"
   ]
  },
  {
   "cell_type": "code",
   "execution_count": 96,
   "metadata": {},
   "outputs": [],
   "source": [
    "import pickle\n",
    "\n",
    "# Save the model\n",
    "with open('../models/faq_model.pkl', 'wb') as file:\n",
    "    pickle.dump(model, file)\n",
    "\n",
    "\n",
    "# # Load the model\n",
    "# # with open('naive_bayes_model.pkl', 'rb') as file:\n",
    "# #     loaded_model = pickle.load(file)"
   ]
  }
 ],
 "metadata": {
  "kernelspec": {
   "display_name": "Python 3",
   "language": "python",
   "name": "python3"
  },
  "language_info": {
   "codemirror_mode": {
    "name": "ipython",
    "version": 3
   },
   "file_extension": ".py",
   "mimetype": "text/x-python",
   "name": "python",
   "nbconvert_exporter": "python",
   "pygments_lexer": "ipython3",
   "version": "3.11.8"
  }
 },
 "nbformat": 4,
 "nbformat_minor": 2
}
