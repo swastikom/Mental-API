{
 "cells": [
  {
   "cell_type": "code",
   "execution_count": 1,
   "id": "f1dd4b03-2983-4455-b326-a664237317b0",
   "metadata": {},
   "outputs": [
    {
     "name": "stdout",
     "output_type": "stream",
     "text": [
      "Requirement already satisfied: xgboost in c:\\users\\swastik\\anaconda 3 new\\lib\\site-packages (2.0.3)\n",
      "Requirement already satisfied: numpy in c:\\users\\swastik\\anaconda 3 new\\lib\\site-packages (from xgboost) (1.26.4)\n",
      "Requirement already satisfied: scipy in c:\\users\\swastik\\anaconda 3 new\\lib\\site-packages (from xgboost) (1.11.4)\n"
     ]
    }
   ],
   "source": [
    "! pip install xgboost"
   ]
  },
  {
   "cell_type": "code",
   "execution_count": 2,
   "id": "54476c0d-465b-4940-9fcd-b580069b4919",
   "metadata": {},
   "outputs": [],
   "source": [
    "import warnings\n",
    "warnings.filterwarnings('ignore')\n",
    "\n",
    "import numpy as np # linear algebra\n",
    "import pandas as pd # data processing, CSV file I/O (e.g. pd.read_csv)\n",
    "\n",
    "# Visualisation libraries\n",
    "import matplotlib.pyplot as plt\n",
    "import seaborn as sns\n",
    "\n",
    "# Machine Learning Libraries\n",
    "from sklearn.model_selection import train_test_split,GridSearchCV,RandomizedSearchCV\n",
    "from sklearn.feature_extraction.text import TfidfVectorizer\n",
    "from sklearn.feature_selection import SelectKBest,chi2,f_classif\n",
    "from sklearn.ensemble import RandomForestClassifier,VotingClassifier,AdaBoostClassifier,GradientBoostingClassifier,BaggingClassifier\n",
    "from sklearn.metrics import classification_report , confusion_matrix\n",
    "from sklearn.tree import DecisionTreeClassifier\n",
    "from xgboost import XGBClassifier\n",
    "from sklearn.neighbors import KNeighborsClassifier\n",
    "from sklearn.naive_bayes import GaussianNB, MultinomialNB, BernoulliNB\n",
    "\n",
    "import pickle\n",
    "import string\n",
    "\n",
    "# Text Processing libraries\n",
    "import nltk\n",
    "from nltk.stem import PorterStemmer"
   ]
  },
  {
   "cell_type": "code",
   "execution_count": 3,
   "id": "68b85f76-90b8-44ef-95aa-18e9c39fef40",
   "metadata": {},
   "outputs": [],
   "source": [
    "data = pd.read_csv('../Datasets/Suicidal text Dataset/Suicide_Detection.csv')\n"
   ]
  },
  {
   "cell_type": "code",
   "execution_count": 4,
   "id": "aa819d00-db1f-4652-b9f3-073abd6304b6",
   "metadata": {},
   "outputs": [
    {
     "data": {
      "text/html": [
       "<div>\n",
       "<style scoped>\n",
       "    .dataframe tbody tr th:only-of-type {\n",
       "        vertical-align: middle;\n",
       "    }\n",
       "\n",
       "    .dataframe tbody tr th {\n",
       "        vertical-align: top;\n",
       "    }\n",
       "\n",
       "    .dataframe thead th {\n",
       "        text-align: right;\n",
       "    }\n",
       "</style>\n",
       "<table border=\"1\" class=\"dataframe\">\n",
       "  <thead>\n",
       "    <tr style=\"text-align: right;\">\n",
       "      <th></th>\n",
       "      <th>Unnamed: 0</th>\n",
       "      <th>text</th>\n",
       "      <th>class</th>\n",
       "    </tr>\n",
       "  </thead>\n",
       "  <tbody>\n",
       "    <tr>\n",
       "      <th>0</th>\n",
       "      <td>2</td>\n",
       "      <td>Ex Wife Threatening SuicideRecently I left my ...</td>\n",
       "      <td>suicide</td>\n",
       "    </tr>\n",
       "    <tr>\n",
       "      <th>1</th>\n",
       "      <td>3</td>\n",
       "      <td>Am I weird I don't get affected by compliments...</td>\n",
       "      <td>non-suicide</td>\n",
       "    </tr>\n",
       "    <tr>\n",
       "      <th>2</th>\n",
       "      <td>4</td>\n",
       "      <td>Finally 2020 is almost over... So I can never ...</td>\n",
       "      <td>non-suicide</td>\n",
       "    </tr>\n",
       "    <tr>\n",
       "      <th>3</th>\n",
       "      <td>8</td>\n",
       "      <td>i need helpjust help me im crying so hard</td>\n",
       "      <td>suicide</td>\n",
       "    </tr>\n",
       "    <tr>\n",
       "      <th>4</th>\n",
       "      <td>9</td>\n",
       "      <td>I’m so lostHello, my name is Adam (16) and I’v...</td>\n",
       "      <td>suicide</td>\n",
       "    </tr>\n",
       "    <tr>\n",
       "      <th>...</th>\n",
       "      <td>...</td>\n",
       "      <td>...</td>\n",
       "      <td>...</td>\n",
       "    </tr>\n",
       "    <tr>\n",
       "      <th>232069</th>\n",
       "      <td>348103</td>\n",
       "      <td>If you don't like rock then your not going to ...</td>\n",
       "      <td>non-suicide</td>\n",
       "    </tr>\n",
       "    <tr>\n",
       "      <th>232070</th>\n",
       "      <td>348106</td>\n",
       "      <td>You how you can tell i have so many friends an...</td>\n",
       "      <td>non-suicide</td>\n",
       "    </tr>\n",
       "    <tr>\n",
       "      <th>232071</th>\n",
       "      <td>348107</td>\n",
       "      <td>pee probably tastes like salty tea😏💦‼️ can som...</td>\n",
       "      <td>non-suicide</td>\n",
       "    </tr>\n",
       "    <tr>\n",
       "      <th>232072</th>\n",
       "      <td>348108</td>\n",
       "      <td>The usual stuff you find hereI'm not posting t...</td>\n",
       "      <td>suicide</td>\n",
       "    </tr>\n",
       "    <tr>\n",
       "      <th>232073</th>\n",
       "      <td>348110</td>\n",
       "      <td>I still haven't beaten the first boss in Hollo...</td>\n",
       "      <td>non-suicide</td>\n",
       "    </tr>\n",
       "  </tbody>\n",
       "</table>\n",
       "<p>232074 rows × 3 columns</p>\n",
       "</div>"
      ],
      "text/plain": [
       "        Unnamed: 0                                               text  \\\n",
       "0                2  Ex Wife Threatening SuicideRecently I left my ...   \n",
       "1                3  Am I weird I don't get affected by compliments...   \n",
       "2                4  Finally 2020 is almost over... So I can never ...   \n",
       "3                8          i need helpjust help me im crying so hard   \n",
       "4                9  I’m so lostHello, my name is Adam (16) and I’v...   \n",
       "...            ...                                                ...   \n",
       "232069      348103  If you don't like rock then your not going to ...   \n",
       "232070      348106  You how you can tell i have so many friends an...   \n",
       "232071      348107  pee probably tastes like salty tea😏💦‼️ can som...   \n",
       "232072      348108  The usual stuff you find hereI'm not posting t...   \n",
       "232073      348110  I still haven't beaten the first boss in Hollo...   \n",
       "\n",
       "              class  \n",
       "0           suicide  \n",
       "1       non-suicide  \n",
       "2       non-suicide  \n",
       "3           suicide  \n",
       "4           suicide  \n",
       "...             ...  \n",
       "232069  non-suicide  \n",
       "232070  non-suicide  \n",
       "232071  non-suicide  \n",
       "232072      suicide  \n",
       "232073  non-suicide  \n",
       "\n",
       "[232074 rows x 3 columns]"
      ]
     },
     "execution_count": 4,
     "metadata": {},
     "output_type": "execute_result"
    }
   ],
   "source": [
    "data"
   ]
  },
  {
   "cell_type": "code",
   "execution_count": 5,
   "id": "4785ce7d-03b2-472e-b26d-af18cf87a439",
   "metadata": {},
   "outputs": [
    {
     "data": {
      "text/plain": [
       "(232074, 3)"
      ]
     },
     "execution_count": 5,
     "metadata": {},
     "output_type": "execute_result"
    }
   ],
   "source": [
    "data.shape"
   ]
  },
  {
   "cell_type": "code",
   "execution_count": 6,
   "id": "d5158c42-0d55-461f-8a16-d00fa14c1dee",
   "metadata": {},
   "outputs": [],
   "source": [
    "df = data.sample(n=80000, random_state=42)"
   ]
  },
  {
   "cell_type": "code",
   "execution_count": 7,
   "id": "d36d249b-0dd7-4b28-b060-cded803f0fbb",
   "metadata": {},
   "outputs": [
    {
     "name": "stdout",
     "output_type": "stream",
     "text": [
      "<class 'pandas.core.frame.DataFrame'>\n",
      "Index: 80000 entries, 74414 to 128657\n",
      "Data columns (total 3 columns):\n",
      " #   Column      Non-Null Count  Dtype \n",
      "---  ------      --------------  ----- \n",
      " 0   Unnamed: 0  80000 non-null  int64 \n",
      " 1   text        80000 non-null  object\n",
      " 2   class       80000 non-null  object\n",
      "dtypes: int64(1), object(2)\n",
      "memory usage: 2.4+ MB\n"
     ]
    }
   ],
   "source": [
    "df.info()"
   ]
  },
  {
   "cell_type": "code",
   "execution_count": 8,
   "id": "ef7beb77-1093-435f-b0a7-69da913839b6",
   "metadata": {},
   "outputs": [
    {
     "data": {
      "text/plain": [
       "True"
      ]
     },
     "execution_count": 8,
     "metadata": {},
     "output_type": "execute_result"
    }
   ],
   "source": [
    "df['Unnamed: 0'].is_unique"
   ]
  },
  {
   "cell_type": "code",
   "execution_count": 9,
   "id": "ae741028-5dd0-402e-b30d-9d24a88e76cf",
   "metadata": {},
   "outputs": [],
   "source": [
    "df.drop(columns = 'Unnamed: 0',inplace=True)"
   ]
  },
  {
   "cell_type": "code",
   "execution_count": 10,
   "id": "04998ee3-5215-4c07-9caf-5ed17e3e3596",
   "metadata": {},
   "outputs": [
    {
     "data": {
      "text/html": [
       "<div>\n",
       "<style scoped>\n",
       "    .dataframe tbody tr th:only-of-type {\n",
       "        vertical-align: middle;\n",
       "    }\n",
       "\n",
       "    .dataframe tbody tr th {\n",
       "        vertical-align: top;\n",
       "    }\n",
       "\n",
       "    .dataframe thead th {\n",
       "        text-align: right;\n",
       "    }\n",
       "</style>\n",
       "<table border=\"1\" class=\"dataframe\">\n",
       "  <thead>\n",
       "    <tr style=\"text-align: right;\">\n",
       "      <th></th>\n",
       "      <th>text</th>\n",
       "      <th>class</th>\n",
       "    </tr>\n",
       "  </thead>\n",
       "  <tbody>\n",
       "    <tr>\n",
       "      <th>74414</th>\n",
       "      <td>I Don't know?7? Months self harm free and the ...</td>\n",
       "      <td>suicide</td>\n",
       "    </tr>\n",
       "    <tr>\n",
       "      <th>149516</th>\n",
       "      <td>I HAVE TO START BECOMING RICH I HAVE TO START ...</td>\n",
       "      <td>non-suicide</td>\n",
       "    </tr>\n",
       "    <tr>\n",
       "      <th>12484</th>\n",
       "      <td>A poem (haiku) for u/Me-Game-Dev hi, hello hel...</td>\n",
       "      <td>non-suicide</td>\n",
       "    </tr>\n",
       "    <tr>\n",
       "      <th>14043</th>\n",
       "      <td>I've honestly got no idea what to do anymore.I...</td>\n",
       "      <td>suicide</td>\n",
       "    </tr>\n",
       "    <tr>\n",
       "      <th>30673</th>\n",
       "      <td>Do you ever just cry? Like you just think abou...</td>\n",
       "      <td>non-suicide</td>\n",
       "    </tr>\n",
       "  </tbody>\n",
       "</table>\n",
       "</div>"
      ],
      "text/plain": [
       "                                                     text        class\n",
       "74414   I Don't know?7? Months self harm free and the ...      suicide\n",
       "149516  I HAVE TO START BECOMING RICH I HAVE TO START ...  non-suicide\n",
       "12484   A poem (haiku) for u/Me-Game-Dev hi, hello hel...  non-suicide\n",
       "14043   I've honestly got no idea what to do anymore.I...      suicide\n",
       "30673   Do you ever just cry? Like you just think abou...  non-suicide"
      ]
     },
     "execution_count": 10,
     "metadata": {},
     "output_type": "execute_result"
    }
   ],
   "source": [
    "df.head()"
   ]
  },
  {
   "cell_type": "code",
   "execution_count": 11,
   "id": "8ff75f4e-ee45-442d-bb85-33a89c990e97",
   "metadata": {},
   "outputs": [
    {
     "data": {
      "text/plain": [
       "text     0\n",
       "class    0\n",
       "dtype: int64"
      ]
     },
     "execution_count": 11,
     "metadata": {},
     "output_type": "execute_result"
    }
   ],
   "source": [
    "df.isnull().sum()"
   ]
  },
  {
   "cell_type": "code",
   "execution_count": 12,
   "id": "8bfdaa8a-c796-47f9-a92f-a3963358d947",
   "metadata": {},
   "outputs": [
    {
     "data": {
      "text/plain": [
       "0"
      ]
     },
     "execution_count": 12,
     "metadata": {},
     "output_type": "execute_result"
    }
   ],
   "source": [
    "df.duplicated().sum()"
   ]
  },
  {
   "cell_type": "code",
   "execution_count": 13,
   "id": "49c97673-8e9d-446f-8c64-6d6bf1bed957",
   "metadata": {},
   "outputs": [
    {
     "name": "stdout",
     "output_type": "stream",
     "text": [
      "class\n",
      "suicide        40000\n",
      "non-suicide    40000\n",
      "Name: count, dtype: int64\n"
     ]
    },
    {
     "data": {
      "image/png": "[encoded data removed]",
      "text/plain": [
       "<Figure size 2000x500 with 2 Axes>"
      ]
     },
     "metadata": {},
     "output_type": "display_data"
    }
   ],
   "source": [
    "classCnt = df['class'].value_counts()\n",
    "print(classCnt)\n",
    "\n",
    "plt.figure(figsize=((20,5)))\n",
    "\n",
    "plt.subplot(1,2,1)\n",
    "sns.countplot(df,x='class')\n",
    "\n",
    "plt.subplot(1,2,2)\n",
    "plt.pie(classCnt,labels = classCnt.index,autopct='%.0f%%')\n",
    "\n",
    "plt.show()"
   ]
  },
  {
   "cell_type": "code",
   "execution_count": 14,
   "id": "1b5fa8ff-a6cc-4584-b2f1-ccdcb6fa7647",
   "metadata": {},
   "outputs": [],
   "source": [
    "df['text']= df['text'].str.lower()"
   ]
  },
  {
   "cell_type": "code",
   "execution_count": 15,
   "id": "97ee1ec0-ce4f-4caf-a5ae-70831a3dd2bb",
   "metadata": {},
   "outputs": [],
   "source": [
    "df['text'] = df['text'].str.replace(r'[^\\w\\s]+', '',regex = True)"
   ]
  },
  {
   "cell_type": "code",
   "execution_count": 16,
   "id": "00511d30-579b-436d-9a67-f0641098cc09",
   "metadata": {},
   "outputs": [],
   "source": [
    "from nltk.corpus import stopwords\n",
    "stop_words = stopwords.words('english')\n",
    "df['text'] = df['text'].apply(lambda x: ' '.join([word for word in x.split() if word not in (stop_words)]))"
   ]
  },
  {
   "cell_type": "code",
   "execution_count": 17,
   "id": "3272aae3-a09e-43fe-ad32-a597e707a1d3",
   "metadata": {},
   "outputs": [],
   "source": [
    "df['text'] = df['text'].apply(lambda x:nltk.word_tokenize(x))"
   ]
  },
  {
   "cell_type": "code",
   "execution_count": 18,
   "id": "b2ffde84-2037-42da-a54c-2df9c011258d",
   "metadata": {},
   "outputs": [],
   "source": [
    "ps = PorterStemmer()\n",
    "df['text'] = df['text'].apply(lambda x : [ps.stem(i) for i in x])"
   ]
  },
  {
   "cell_type": "code",
   "execution_count": 19,
   "id": "1657bebb-a575-4835-8904-3e2b48b2a61a",
   "metadata": {},
   "outputs": [],
   "source": [
    "df['text']=df['text'].apply(lambda x : ' '.join(x))"
   ]
  },
  {
   "cell_type": "code",
   "execution_count": 20,
   "id": "3b6a7d69-71e6-4ebf-829d-b8aaeb7e77b2",
   "metadata": {},
   "outputs": [
    {
     "data": {
      "text/html": [
       "<div>\n",
       "<style scoped>\n",
       "    .dataframe tbody tr th:only-of-type {\n",
       "        vertical-align: middle;\n",
       "    }\n",
       "\n",
       "    .dataframe tbody tr th {\n",
       "        vertical-align: top;\n",
       "    }\n",
       "\n",
       "    .dataframe thead th {\n",
       "        text-align: right;\n",
       "    }\n",
       "</style>\n",
       "<table border=\"1\" class=\"dataframe\">\n",
       "  <thead>\n",
       "    <tr style=\"text-align: right;\">\n",
       "      <th></th>\n",
       "      <th>text</th>\n",
       "      <th>class</th>\n",
       "    </tr>\n",
       "  </thead>\n",
       "  <tbody>\n",
       "    <tr>\n",
       "      <th>74414</th>\n",
       "      <td>dont know7 month self harm free urg get strong...</td>\n",
       "      <td>suicide</td>\n",
       "    </tr>\n",
       "    <tr>\n",
       "      <th>149516</th>\n",
       "      <td>start becom rich start compani becom 16 afford...</td>\n",
       "      <td>non-suicide</td>\n",
       "    </tr>\n",
       "    <tr>\n",
       "      <th>12484</th>\n",
       "      <td>poem haiku umegamedev hi hello hello stop fuck...</td>\n",
       "      <td>non-suicide</td>\n",
       "    </tr>\n",
       "    <tr>\n",
       "      <th>14043</th>\n",
       "      <td>ive honestli got idea anymoreit feel everyon f...</td>\n",
       "      <td>suicide</td>\n",
       "    </tr>\n",
       "    <tr>\n",
       "      <th>30673</th>\n",
       "      <td>ever cri like think unfair life cri cant cri e...</td>\n",
       "      <td>non-suicide</td>\n",
       "    </tr>\n",
       "  </tbody>\n",
       "</table>\n",
       "</div>"
      ],
      "text/plain": [
       "                                                     text        class\n",
       "74414   dont know7 month self harm free urg get strong...      suicide\n",
       "149516  start becom rich start compani becom 16 afford...  non-suicide\n",
       "12484   poem haiku umegamedev hi hello hello stop fuck...  non-suicide\n",
       "14043   ive honestli got idea anymoreit feel everyon f...      suicide\n",
       "30673   ever cri like think unfair life cri cant cri e...  non-suicide"
      ]
     },
     "execution_count": 20,
     "metadata": {},
     "output_type": "execute_result"
    }
   ],
   "source": [
    "df.head()"
   ]
  },
  {
   "cell_type": "code",
   "execution_count": 21,
   "id": "1f13989e-89ca-4ace-8a42-b9468d80f17d",
   "metadata": {},
   "outputs": [],
   "source": [
    "# Saved the cleaned dataset.\n",
    "df.to_csv('file1.csv')"
   ]
  },
  {
   "cell_type": "code",
   "execution_count": 22,
   "id": "5723c674-4272-4267-8364-9ceb5b7ffa43",
   "metadata": {},
   "outputs": [
    {
     "data": {
      "text/html": [
       "<div>\n",
       "<style scoped>\n",
       "    .dataframe tbody tr th:only-of-type {\n",
       "        vertical-align: middle;\n",
       "    }\n",
       "\n",
       "    .dataframe tbody tr th {\n",
       "        vertical-align: top;\n",
       "    }\n",
       "\n",
       "    .dataframe thead th {\n",
       "        text-align: right;\n",
       "    }\n",
       "</style>\n",
       "<table border=\"1\" class=\"dataframe\">\n",
       "  <thead>\n",
       "    <tr style=\"text-align: right;\">\n",
       "      <th></th>\n",
       "      <th>Unnamed: 0</th>\n",
       "      <th>text</th>\n",
       "      <th>class</th>\n",
       "    </tr>\n",
       "  </thead>\n",
       "  <tbody>\n",
       "    <tr>\n",
       "      <th>0</th>\n",
       "      <td>74414</td>\n",
       "      <td>dont know7 month self harm free urg get strong...</td>\n",
       "      <td>suicide</td>\n",
       "    </tr>\n",
       "    <tr>\n",
       "      <th>1</th>\n",
       "      <td>149516</td>\n",
       "      <td>start becom rich start compani becom 16 afford...</td>\n",
       "      <td>non-suicide</td>\n",
       "    </tr>\n",
       "    <tr>\n",
       "      <th>2</th>\n",
       "      <td>12484</td>\n",
       "      <td>poem haiku umegamedev hi hello hello stop fuck...</td>\n",
       "      <td>non-suicide</td>\n",
       "    </tr>\n",
       "    <tr>\n",
       "      <th>3</th>\n",
       "      <td>14043</td>\n",
       "      <td>ive honestli got idea anymoreit feel everyon f...</td>\n",
       "      <td>suicide</td>\n",
       "    </tr>\n",
       "    <tr>\n",
       "      <th>4</th>\n",
       "      <td>30673</td>\n",
       "      <td>ever cri like think unfair life cri cant cri e...</td>\n",
       "      <td>non-suicide</td>\n",
       "    </tr>\n",
       "  </tbody>\n",
       "</table>\n",
       "</div>"
      ],
      "text/plain": [
       "   Unnamed: 0                                               text        class\n",
       "0       74414  dont know7 month self harm free urg get strong...      suicide\n",
       "1      149516  start becom rich start compani becom 16 afford...  non-suicide\n",
       "2       12484  poem haiku umegamedev hi hello hello stop fuck...  non-suicide\n",
       "3       14043  ive honestli got idea anymoreit feel everyon f...      suicide\n",
       "4       30673  ever cri like think unfair life cri cant cri e...  non-suicide"
      ]
     },
     "execution_count": 22,
     "metadata": {},
     "output_type": "execute_result"
    }
   ],
   "source": [
    "dfnew = pd.read_csv('file1.csv')\n",
    "dfnew.head()"
   ]
  },
  {
   "cell_type": "code",
   "execution_count": 23,
   "id": "78070fd8-6aa0-4a73-b62a-bc1502af0793",
   "metadata": {},
   "outputs": [
    {
     "name": "stdout",
     "output_type": "stream",
     "text": [
      "<class 'pandas.core.frame.DataFrame'>\n",
      "RangeIndex: 80000 entries, 0 to 79999\n",
      "Data columns (total 3 columns):\n",
      " #   Column      Non-Null Count  Dtype \n",
      "---  ------      --------------  ----- \n",
      " 0   Unnamed: 0  80000 non-null  int64 \n",
      " 1   text        79990 non-null  object\n",
      " 2   class       80000 non-null  object\n",
      "dtypes: int64(1), object(2)\n",
      "memory usage: 1.8+ MB\n"
     ]
    }
   ],
   "source": [
    "dfnew.info()"
   ]
  },
  {
   "cell_type": "code",
   "execution_count": 24,
   "id": "d1079916-9dbc-43f6-9600-da17a5cdc3d3",
   "metadata": {},
   "outputs": [],
   "source": [
    "ind = dfnew[dfnew['text'].isnull()].index"
   ]
  },
  {
   "cell_type": "code",
   "execution_count": 25,
   "id": "9de89a51-df59-4a37-9d5c-232e11d0e3f3",
   "metadata": {},
   "outputs": [
    {
     "data": {
      "text/html": [
       "<div>\n",
       "<style scoped>\n",
       "    .dataframe tbody tr th:only-of-type {\n",
       "        vertical-align: middle;\n",
       "    }\n",
       "\n",
       "    .dataframe tbody tr th {\n",
       "        vertical-align: top;\n",
       "    }\n",
       "\n",
       "    .dataframe thead th {\n",
       "        text-align: right;\n",
       "    }\n",
       "</style>\n",
       "<table border=\"1\" class=\"dataframe\">\n",
       "  <thead>\n",
       "    <tr style=\"text-align: right;\">\n",
       "      <th></th>\n",
       "      <th>text</th>\n",
       "      <th>class</th>\n",
       "    </tr>\n",
       "  </thead>\n",
       "  <tbody>\n",
       "    <tr>\n",
       "      <th>102482</th>\n",
       "      <td></td>\n",
       "      <td>suicide</td>\n",
       "    </tr>\n",
       "    <tr>\n",
       "      <th>205215</th>\n",
       "      <td></td>\n",
       "      <td>non-suicide</td>\n",
       "    </tr>\n",
       "    <tr>\n",
       "      <th>11476</th>\n",
       "      <td></td>\n",
       "      <td>non-suicide</td>\n",
       "    </tr>\n",
       "    <tr>\n",
       "      <th>181086</th>\n",
       "      <td></td>\n",
       "      <td>non-suicide</td>\n",
       "    </tr>\n",
       "    <tr>\n",
       "      <th>216154</th>\n",
       "      <td></td>\n",
       "      <td>non-suicide</td>\n",
       "    </tr>\n",
       "    <tr>\n",
       "      <th>9592</th>\n",
       "      <td></td>\n",
       "      <td>non-suicide</td>\n",
       "    </tr>\n",
       "    <tr>\n",
       "      <th>47558</th>\n",
       "      <td></td>\n",
       "      <td>non-suicide</td>\n",
       "    </tr>\n",
       "    <tr>\n",
       "      <th>231259</th>\n",
       "      <td></td>\n",
       "      <td>non-suicide</td>\n",
       "    </tr>\n",
       "    <tr>\n",
       "      <th>119023</th>\n",
       "      <td></td>\n",
       "      <td>non-suicide</td>\n",
       "    </tr>\n",
       "    <tr>\n",
       "      <th>408</th>\n",
       "      <td></td>\n",
       "      <td>non-suicide</td>\n",
       "    </tr>\n",
       "  </tbody>\n",
       "</table>\n",
       "</div>"
      ],
      "text/plain": [
       "       text        class\n",
       "102482           suicide\n",
       "205215       non-suicide\n",
       "11476        non-suicide\n",
       "181086       non-suicide\n",
       "216154       non-suicide\n",
       "9592         non-suicide\n",
       "47558        non-suicide\n",
       "231259       non-suicide\n",
       "119023       non-suicide\n",
       "408          non-suicide"
      ]
     },
     "execution_count": 25,
     "metadata": {},
     "output_type": "execute_result"
    }
   ],
   "source": [
    "df.iloc[ind]"
   ]
  },
  {
   "cell_type": "code",
   "execution_count": 26,
   "id": "8a01ec0d-2cdd-4e48-8b20-148cdc416c69",
   "metadata": {},
   "outputs": [],
   "source": [
    "dfnew.dropna(inplace=True)"
   ]
  },
  {
   "cell_type": "code",
   "execution_count": 27,
   "id": "34ec0c6d-eba1-4487-bf45-66669ca98740",
   "metadata": {},
   "outputs": [],
   "source": [
    "x,y = dfnew['text'],dfnew['class']"
   ]
  },
  {
   "cell_type": "code",
   "execution_count": 28,
   "id": "3ae93b4e-9c10-4792-bc3e-0719fcb9fb6a",
   "metadata": {},
   "outputs": [],
   "source": [
    "vectorizer = TfidfVectorizer(min_df=50,max_features=5000)\n",
    "x =  vectorizer.fit_transform(x).toarray()"
   ]
  },
  {
   "cell_type": "code",
   "execution_count": 29,
   "id": "9ee2c9fc-ed0f-4b30-819e-76bb0fb0a858",
   "metadata": {},
   "outputs": [],
   "source": [
    "# Save the model\n",
    "with open('../models/Suicide Indicator Model/tfidf.pkl', 'wb') as f:\n",
    "    pickle.dump(vectorizer, f)    "
   ]
  },
  {
   "cell_type": "code",
   "execution_count": 30,
   "id": "2d2b78dc-78fd-4932-ab0f-9776df57018a",
   "metadata": {},
   "outputs": [],
   "source": [
    "X_train,X_test,y_train,y_test = train_test_split(x,y,test_size=0.30,random_state=5)"
   ]
  },
  {
   "cell_type": "code",
   "execution_count": 31,
   "id": "0df2c6d3-f196-4218-83e4-fc13445cf958",
   "metadata": {},
   "outputs": [
    {
     "data": {
      "text/plain": [
       "((55993, 4287), (23997, 4287))"
      ]
     },
     "execution_count": 31,
     "metadata": {},
     "output_type": "execute_result"
    }
   ],
   "source": [
    "X_train.shape,X_test.shape"
   ]
  },
  {
   "cell_type": "code",
   "execution_count": 32,
   "id": "fd439cea-a3c9-406b-8df4-99dd59f82f2b",
   "metadata": {},
   "outputs": [
    {
     "name": "stdout",
     "output_type": "stream",
     "text": [
      "Training score: 0.9042916078795564\n",
      "Testing score: 0.8918614826853357\n"
     ]
    }
   ],
   "source": [
    "nb = GaussianNB()\n",
    "nb2 = BernoulliNB()\n",
    "nb3 = MultinomialNB()\n",
    "VotingClassifiers = VotingClassifier(estimators=[('GaussianNB', nb),('BernoulliNB',nb2), ('MultinomialNB', nb3)], voting = 'soft')\n",
    "VotingClassifiers.fit(X_train, y_train)\n",
    "print('Training score:',VotingClassifiers.score(X_train, y_train))\n",
    "print('Testing score:',VotingClassifiers.score(X_test,y_test))"
   ]
  },
  {
   "cell_type": "code",
   "execution_count": 33,
   "id": "b3505e05-5b90-432f-a7fd-bd9252789be0",
   "metadata": {},
   "outputs": [
    {
     "name": "stdout",
     "output_type": "stream",
     "text": [
      "              precision    recall  f1-score   support\n",
      "\n",
      " non-suicide       0.89      0.90      0.89     12039\n",
      "     suicide       0.90      0.89      0.89     11958\n",
      "\n",
      "    accuracy                           0.89     23997\n",
      "   macro avg       0.89      0.89      0.89     23997\n",
      "weighted avg       0.89      0.89      0.89     23997\n",
      "\n"
     ]
    },
    {
     "data": {
      "image/png": "[encoded data removed]",
      "text/plain": [
       "<Figure size 640x480 with 2 Axes>"
      ]
     },
     "metadata": {},
     "output_type": "display_data"
    }
   ],
   "source": [
    "y_act=y_test\n",
    "y_pred=VotingClassifiers.predict(X_test)\n",
    "sns.heatmap(confusion_matrix(y_act,y_pred),annot=True,cmap='summer')\n",
    "print(classification_report(y_act,y_pred))"
   ]
  },
  {
   "cell_type": "code",
   "execution_count": 34,
   "id": "1333a400-6ce3-4640-a313-b00fda36c9f9",
   "metadata": {},
   "outputs": [
    {
     "name": "stdout",
     "output_type": "stream",
     "text": [
      "Training score: 0.7580054649688354\n",
      "Testing score: 0.749760386715006\n",
      "RandomForestClassifier(criterion='entropy', max_depth=3, min_samples_split=3,\n",
      "                       n_estimators=5)\n"
     ]
    }
   ],
   "source": [
    "classifiers = RandomizedSearchCV(RandomForestClassifier(),{'n_estimators':[4,5],'criterion':['entropy'],\n",
    "                                                      'max_depth':range(1,4),'min_samples_split':range(2,5)},random_state=12)\n",
    "classifiers.fit(X_train, y_train)\n",
    "print('Training score:',classifiers.score(X_train, y_train))\n",
    "print('Testing score:',classifiers.score(X_test,y_test))\n",
    "print(classifiers.best_estimator_)"
   ]
  },
  {
   "cell_type": "code",
   "execution_count": 35,
   "id": "c0ba143f-e2c7-473a-a107-b655ce68e546",
   "metadata": {},
   "outputs": [
    {
     "name": "stdout",
     "output_type": "stream",
     "text": [
      "              precision    recall  f1-score   support\n",
      "\n",
      " non-suicide       0.71      0.86      0.77     12039\n",
      "     suicide       0.82      0.64      0.72     11958\n",
      "\n",
      "    accuracy                           0.75     23997\n",
      "   macro avg       0.76      0.75      0.75     23997\n",
      "weighted avg       0.76      0.75      0.75     23997\n",
      "\n"
     ]
    },
    {
     "data": {
      "image/png": "[encoded data removed]",
      "text/plain": [
       "<Figure size 640x480 with 2 Axes>"
      ]
     },
     "metadata": {},
     "output_type": "display_data"
    }
   ],
   "source": [
    "y_act=y_test\n",
    "y_pred=classifiers.predict(X_test)\n",
    "sns.heatmap(confusion_matrix(y_act,y_pred),annot=True,cmap='Spectral')\n",
    "print(classification_report(y_act,y_pred))"
   ]
  },
  {
   "cell_type": "code",
   "execution_count": 36,
   "id": "2d890879-3d64-46d5-98b6-7b94b0cde2a3",
   "metadata": {},
   "outputs": [],
   "source": [
    "def preprocess(inp):\n",
    "    inp = inp.lower() #convert to lower case \n",
    "    inp = inp.replace(r'[^\\w\\s]+', '') #remove punctuations\n",
    "    inp = [word for word in inp.split() if word not in (stop_words)] #tokenize the sentence\n",
    "    inp = ' '.join([ps.stem(i) for i in inp]) #stremming\n",
    "    inputToModel = vectorizer.transform([inp]).toarray() #transform to vector form\n",
    "    return inputToModel"
   ]
  },
  {
   "cell_type": "code",
   "execution_count": 37,
   "id": "c3730156-5bf6-4552-ac07-b6b9bab3474d",
   "metadata": {},
   "outputs": [],
   "source": [
    "def app(input_text):\n",
    "    # Define the input text box\n",
    "    print('Input : ',input_text) #take input from user\n",
    "    processed_array = preprocess(input_text) #preprocess the text \n",
    "    predict = VotingClassifiers.predict(processed_array) #Model prediction\n",
    "    print('Output : ', predict[0])\n",
    "    return predict[0]\n",
    "    "
   ]
  },
  {
   "cell_type": "code",
   "execution_count": 38,
   "id": "9aba6e52-1a52-4123-8dee-b937db21c3d0",
   "metadata": {},
   "outputs": [],
   "source": [
    "# Save the functions and model using pickle\n",
    "with open('../models/Suicide Indicator Model/sui_prediction.pkl', 'wb') as f:\n",
    "    pickle.dump({'model': VotingClassifiers}, f)\n"
   ]
  },
  {
   "cell_type": "code",
   "execution_count": 39,
   "id": "9ec09e1b-1949-4596-bd46-7d814ee9e89a",
   "metadata": {},
   "outputs": [
    {
     "name": "stdout",
     "output_type": "stream",
     "text": [
      "Input :   I shall hang myself.\n",
      "Output :  suicide\n"
     ]
    },
    {
     "data": {
      "text/plain": [
       "'suicide'"
      ]
     },
     "execution_count": 39,
     "metadata": {},
     "output_type": "execute_result"
    }
   ],
   "source": [
    "app(' I shall hang myself.')"
   ]
  },
  {
   "cell_type": "code",
   "execution_count": 40,
   "id": "1f6b240d-f247-4cc1-a7c9-f9e4f5a47ebe",
   "metadata": {},
   "outputs": [
    {
     "name": "stdout",
     "output_type": "stream",
     "text": [
      "Input :  Have a nice day! Happy Coding😊\n",
      "Output :  non-suicide\n"
     ]
    },
    {
     "data": {
      "text/plain": [
       "'non-suicide'"
      ]
     },
     "execution_count": 40,
     "metadata": {},
     "output_type": "execute_result"
    }
   ],
   "source": [
    "app('Have a nice day! Happy Coding😊')"
   ]
  },
  {
   "cell_type": "code",
   "execution_count": null,
   "id": "0c229817-6f3c-46ce-bf33-54fb26a050d4",
   "metadata": {},
   "outputs": [],
   "source": []
  }
 ],
 "metadata": {
  "kernelspec": {
   "display_name": "Python 3 (ipykernel)",
   "language": "python",
   "name": "python3"
  },
  "language_info": {
   "codemirror_mode": {
    "name": "ipython",
    "version": 3
   },
   "file_extension": ".py",
   "mimetype": "text/x-python",
   "name": "python",
   "nbconvert_exporter": "python",
   "pygments_lexer": "ipython3",
   "version": "3.11.7"
  }
 },
 "nbformat": 4,
 "nbformat_minor": 5
}
